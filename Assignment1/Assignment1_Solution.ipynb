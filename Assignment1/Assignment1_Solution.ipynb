{
  "nbformat": 4,
  "nbformat_minor": 0,
  "metadata": {
    "colab": {
      "name": "Assignment1_Group13_IndRet",
      "provenance": [],
      "collapsed_sections": [
        "fqpL2xjRPFrh",
        "_QfC6uC_PkHC",
        "uJQ-HuwAQolG"
      ]
    },
    "kernelspec": {
      "name": "python3",
      "display_name": "Python 3"
    }
  },
  "cells": [
    {
      "cell_type": "markdown",
      "metadata": {
        "id": "mMvhqcUMSEwN"
      },
      "source": [
        "# **Information Retrieval In High Dimensional Data**\n",
        "## **Assignment 1 - Group 13**\n",
        "  Group members | IDs\n",
        "--- | ---\n",
        "**Hoang Giang Dang** | 03676899\n",
        "**Julian Bärtschi**  | 03738123\n",
        "**Lukas Vogtmann** | 03745272\n",
        "**Anja Pilz** | 03729350\n",
        "**Aman Kumar**  | 03722433\n",
        "**Lisa-Yao Gan** | 03695778\n",
        "**Estefania Tealdo** | 03717779"
      ]
    },
    {
      "cell_type": "markdown",
      "metadata": {
        "id": "hpNg-nxOGl0Y"
      },
      "source": [
        "# **Task 1**\n",
        "## **1.1**\n",
        "\n",
        "$Pr(X\\in \\mathcal{C}_d)=\\frac{Vol(\\mathcal{C}_d)}{Vol(\\mathcal{C}_1)}=\\frac{Vol(\\mathcal{C}_d)}{1}=Vol(\\mathcal{C}_d)=d^p=q$\n",
        "\n",
        "From this it follows directly:\n",
        "$d=f(p,q)=q^{\\frac{1}{p}}$ \n",
        "\n",
        "## **1.2**\n",
        "\n",
        "The probability that that at least one componet of $X^p$ lies outside the inteval [-2.576, 2.576] is the same as one minus the probability that all components fall within this interval. With the independence of the components it follows: $Pr(\\|X^p\\|_\\infty > 2.576)=1-Pr(|X^1|\\leq 2.576)^p = 1-0.99^p$\n",
        "\n",
        "Dimensions | Probability\n",
        "--- | ---\n",
        "p=2 | 0.0199\n",
        "p=3 | 0.0297\n",
        "p=500 | 0.993"
      ]
    },
    {
      "cell_type": "code",
      "metadata": {
        "colab": {
          "base_uri": "https://localhost:8080/"
        },
        "id": "wng_CiXZGwHK",
        "outputId": "2f3ec718-ff05-4c57-c130-d9cd647459f5"
      },
      "source": [
        "import numpy as np\n",
        "# np.set_printoptions(precision=2)\n",
        "ps = [2,3,500]\n",
        "probabilities = [1.0-0.99**p for p in ps]\n",
        "\n",
        "print(np.array([ps,probabilities]).T)"
      ],
      "execution_count": 9,
      "outputs": [
        {
          "output_type": "stream",
          "text": [
            "[[2.00000000e+00 1.99000000e-02]\n",
            " [3.00000000e+00 2.97010000e-02]\n",
            " [5.00000000e+02 9.93429517e-01]]\n"
          ],
          "name": "stdout"
        }
      ]
    },
    {
      "cell_type": "markdown",
      "metadata": {
        "id": "zlygl2KzLApi"
      },
      "source": [
        "# **Task 2**\n",
        "\n",
        "## **2.1**\n",
        "\n",
        "##### The function ```sampleUniformCube()``` creates  a numpy array with ```num_points``` rows and ```dims``` columns "
      ]
    },
    {
      "cell_type": "code",
      "metadata": {
        "id": "EcwN-6hXMyVn"
      },
      "source": [
        "import numpy as np\n",
        "\n",
        "def sampleUniformCube(num_points=100, dims=2, length=2.0):\n",
        "  points=[np.random.uniform(-length/2,length/2,dims) for i in range(num_points)]\n",
        "  points= np.array(points)\n",
        "  return points\n",
        "\n",
        "data = sampleUniformCube(100,2,2)"
      ],
      "execution_count": 10,
      "outputs": []
    },
    {
      "cell_type": "markdown",
      "metadata": {
        "id": "TyHuX5ZiM1H4"
      },
      "source": [
        "## **2.2** \n",
        "##### The function ```calcAngle()``` determines the minimum angles to all other vectors and computes the average of these minimus angles"
      ]
    },
    {
      "cell_type": "code",
      "metadata": {
        "colab": {
          "base_uri": "https://localhost:8080/"
        },
        "id": "7WrO5Ec1NZqK",
        "outputId": "eb5c0782-28c5-403e-8ad1-2fcdc95855e1"
      },
      "source": [
        "def calcAngle(data_points):\n",
        "  num_points_f = data_points.shape[0]\n",
        "  temp = data_points @ data_points.T # matrix product to calc innerproduct between all x and y\n",
        "  norms = np.matrix(np.sqrt(np.diagonal(temp))) # squared norms are on the diagonal \n",
        "  cosines = temp/(norms.T@norms) # devide each inner product of x and y by the two respective norms\n",
        "  cosines=cosines[~np.eye(cosines.shape[0],dtype=bool)].reshape(cosines.shape[0],-1) # remove elements on the diagonal\n",
        "  cosines = np.minimum(cosines, 1.0) # somtimes values become slightly bigger that 1.0 because of limited precision\n",
        "  min_angles=np.arccos(np.max(cosines, axis=1))\n",
        "  min_angle_mean=np.mean(min_angles)\n",
        "\n",
        "  return min_angle_mean\n",
        "\n",
        "mean_angle = calcAngle(data)\n",
        "print(mean_angle)\n"
      ],
      "execution_count": 11,
      "outputs": [
        {
          "output_type": "stream",
          "text": [
            "0.03262990107280252\n"
          ],
          "name": "stdout"
        }
      ]
    },
    {
      "cell_type": "markdown",
      "metadata": {
        "id": "mDWdnpNGNU_H"
      },
      "source": [
        "## **2.3**\n",
        "##### Plot average minimum angle agains number of dimensions $d$"
      ]
    },
    {
      "cell_type": "code",
      "metadata": {
        "colab": {
          "base_uri": "https://localhost:8080/",
          "height": 549
        },
        "id": "WUH1B5OSN6sq",
        "outputId": "3720c018-430f-4cd6-da3f-0ab7e54a6395"
      },
      "source": [
        "import matplotlib.pyplot as plt\n",
        "\n",
        "test_dimensions=range(1000)\n",
        "average_means=[calcAngle(sampleUniformCube(100, d, 2)) for d in test_dimensions]\n",
        "\n",
        "fig, ax = plt.subplots(figsize=(10,8))\n",
        "\n",
        "ax.set_xlabel('dimension')\n",
        "ax.set_ylabel('average minimum angle in rad')\n",
        "ax.plot(test_dimensions, average_means)"
      ],
      "execution_count": 14,
      "outputs": [
        {
          "output_type": "stream",
          "text": [
            "/usr/local/lib/python3.6/dist-packages/ipykernel_launcher.py:5: RuntimeWarning: invalid value encountered in true_divide\n",
            "  \"\"\"\n"
          ],
          "name": "stderr"
        },
        {
          "output_type": "execute_result",
          "data": {
            "text/plain": [
              "[<matplotlib.lines.Line2D at 0x7f1856c4bba8>]"
            ]
          },
          "metadata": {
            "tags": []
          },
          "execution_count": 14
        },
        {
          "output_type": "display_data",
          "data": {
            "image/png": "[encoded data removed]",
            "text/plain": [
              "<Figure size 720x576 with 1 Axes>"
            ]
          },
          "metadata": {
            "tags": [],
            "needs_background": "light"
          }
        }
      ]
    },
    {
      "cell_type": "markdown",
      "metadata": {
        "id": "qNZa972-OAgi"
      },
      "source": [
        "## **2.4**\n",
        "##### For high dimensions the minimum average angle approaches $\\frac{\\pi}{2}$ which means that the vectors are all pairwise almost orthogonal to each other.\n",
        "\n",
        "## **2.5**\n",
        "##### Yes, when the sample size is increased the average minimum angle gets smaller. This is also intuitive, because, if we would have enough samples to fill the hypercube there would be more random vectors close to each other and thus, having a smaller angle in between. Nevertheless, we see only small changes when increasing the sample size by a factor of 10, because in high dimensions most of the cube is still empty."
      ]
    },
    {
      "cell_type": "code",
      "metadata": {
        "colab": {
          "base_uri": "https://localhost:8080/",
          "height": 532
        },
        "id": "bDnpbqCnN_yO",
        "outputId": "a51a35ec-60ea-4a2e-fa7b-70aeb5cb79af"
      },
      "source": [
        "import matplotlib.pyplot as plt\n",
        "\n",
        "test_dimensions=range(1000)\n",
        "average_means_high=[calcAngle(sampleUniformCube(1000, d, 2)) for d in test_dimensions]\n",
        "\n",
        "\n",
        "\n",
        "average_means_low=[calcAngle(sampleUniformCube(100, d, 2)) for d in test_dimensions]\n",
        "\n",
        "fig, ax = plt.subplots(figsize=(10,8))\n",
        "\n",
        "ax.set_xlabel('dimension')\n",
        "ax.set_ylabel('average minimum angle in rad')\n",
        "ax.plot(test_dimensions, average_means_low, label='fewer samples')\n",
        "ax.plot(test_dimensions, average_means_high, label='more samples',color='r')\n",
        "ax.legend();"
      ],
      "execution_count": 13,
      "outputs": [
        {
          "output_type": "stream",
          "text": [
            "/usr/local/lib/python3.6/dist-packages/ipykernel_launcher.py:5: RuntimeWarning: invalid value encountered in true_divide\n",
            "  \"\"\"\n"
          ],
          "name": "stderr"
        },
        {
          "output_type": "display_data",
          "data": {
            "image/png": "[encoded data removed]",
            "text/plain": [
              "<Figure size 720x576 with 1 Axes>"
            ]
          },
          "metadata": {
            "tags": [],
            "needs_background": "light"
          }
        }
      ]
    },
    {
      "cell_type": "markdown",
      "metadata": {
        "id": "9cj1jMrDOete"
      },
      "source": [
        "# **Task 3**\n",
        "## **3.1**\n",
        "##### Yes, because all the cells are positive and the sum up to 1."
      ]
    },
    {
      "cell_type": "markdown",
      "metadata": {
        "id": "fqpL2xjRPFrh"
      },
      "source": [
        "## **3.2**\n",
        "###### $E_{Y|X=2} [Y]=\\sum_{i=1}^3 i * \\frac{P(Y = i| X = 2)}{P(X = 2)} = 1 * \\frac{0.4}{0.59} + 2 * \\frac{0.14}{0.59} + 3 * \\frac{0.04}{0.59} = \\frac{83}{59} = 1.4$<br><br>\n",
        "\n",
        "##### $P_{Y=3} [X = 1] = \\frac{P_{Y=3} [X = 1]}{P [Y = 3]} = \\frac{0.13}{0.18} = 0.72$ "
      ]
    },
    {
      "cell_type": "markdown",
      "metadata": {
        "id": "_QfC6uC_PkHC"
      },
      "source": [
        "## **3.3**\n",
        "$p(x,y)$ is not a joint density function for two random variables because the following would need to hold:<br>\n",
        "\n",
        "<br>\n",
        "$\\int_{0}^{1}\\int_{0}^{0.5} 1 \\,dxdy = 1$,<br><br>but:<br>\n",
        "\n",
        "$\\int_{0}^{1}\\int_{0}^{0.5} 1 \\,dxdy = \\int_{0}^{1} [y]_{y=0}^{y=0.5} \\,dx = \\int_{0}^{1} [0.5 - 0] \\,dx = \\int_{0}^{1} [0.5] \\,dx = [0.5 * x]_{x=0}^{x=1} = [0.5 - 0] = 0.5$"
      ]
    },
    {
      "cell_type": "markdown",
      "metadata": {
        "id": "uJQ-HuwAQolG"
      },
      "source": [
        "## **3.4**\n",
        "##### Marginal density functions for $X$ and $Y$:\n",
        "$f_y(y) = \\int_{0}^{y} p(x,y) \\,dx = [-2 * e^{-x-y}]_{x=0}^{x=y} = [-2 * e^{-y-y}] - [-2 * e^{0-y}] = -2 * [e^{-2y} - e^{-y}]$, for $0 ≤  y ≤  \\infty $ and 0 elsewhere<br><br>\n",
        "$f_x(x) = \\int_{x}^{\\infty} p(x,y) \\,dy = [-2 * e^{-x-y}]_{y=x}^{y=\\infty} = [-2 * e^{-\\infty}] - [-2 * e^{-x-x}] = 0 - [-2 * e^{-x-x}] = 2 * e^{-x-x}$, for $0 ≤  x ≤  \\infty$ and 0 elsewhere"
      ]
    },
    {
      "cell_type": "markdown",
      "metadata": {
        "id": "b_1g69qpRHy-"
      },
      "source": [
        "## **3.5**\n",
        "Probability for $X≤2$ under the condition that $Y = \\frac{1}{2}$"
      ]
    },
    {
      "cell_type": "markdown",
      "metadata": {
        "id": "JYzEsAsQRkSU"
      },
      "source": [
        "$P_{y=0.5}(X ≤ 2) => f_{x|y}(x|y) = \\frac{f_{xy}(x,y)}{f_y(y)} $<br><br>\n",
        "$f_y(y) = \\int_{0}^{3} p(x,y) \\,dx = [\\frac{1}{15} * (x^2 + 4yx)]_{x=0}^{x=3} = \\frac{9}{15} + \\frac{12y}{15} - 0 - 0 = \\frac{3}{5} + \\frac{4}{5}y$ for $0 <  y <  3$ and 0 elsewhere<br><br>\n",
        "$f_{x|y}(x|y) = \\frac{f_{xy}(x,y)}{f_y(y)} = \\frac{\\frac{1}{15}*(2x + 4y)}{\\frac{3}{5} + \\frac{4}{5}y} = \\frac{2x + 4y}{9 + 12y}$ for $0 <  x <  3$, $0 <  y <  1$ and 0 elsewhere<br><br>\n",
        "$f_{x|y}(x|y=0.5) = \\frac{2x + 2}{9 + 6} = \\frac{2x + 2}{15}$ for $0 <  x <  3$ and 0 elsewhere<br><br>\n",
        "$P_{y=0.5}(X ≤ 2) = \\int_{0}^{2} f_{x|y}(x|y=0.5) \\,dx = [\\frac{x^2 + 2x}{15}]_{x=0}^{x=2} = \\frac{4 + 4}{15} - 0 = \\frac{8}{15} = 0.53$"
      ]
    },
    {
      "cell_type": "markdown",
      "metadata": {
        "id": "8WDd4mINRrue"
      },
      "source": [
        "## **Task 4**"
      ]
    },
    {
      "cell_type": "markdown",
      "metadata": {
        "id": "cDiag-VyU9gd"
      },
      "source": [
        "##### Let the Covariance matrix of the random variable $X \\in \\mathbb{R}^p$ be denoted as: <br> $C:=E[(X-E[X])*(X-E[X])^T]$\n",
        "\n",
        "Then for any $z \\in \\mathbb{R}^p$ it holds that: <br>$z^T *C *z= z^T*E[(X-E[X])*(X-E[X])^T]*z=E[r^T*r]\\geq0$, with $r=(X-E[X])^T*z$ and $C^T=C$. \n",
        "\n",
        "Thus **$C$ is symmetric positive semidefinite.**"
      ]
    }
  ]
}